{
 "cells": [
  {
   "cell_type": "markdown",
   "id": "6af4e97e",
   "metadata": {},
   "source": [
    "# Titanic Dataset Review\n",
    "**Author:** Gabriel Richards (gjrich)\n",
    "\n",
    "**Date:** 1 Apr 2025\n",
    "\n",
    "**Objective:** This notebook is a review of the Titanic dataset to look at the passengers of the famous ship that struck an iceberg and sunk.\n"
   ]
  },
  {
   "cell_type": "markdown",
   "id": "c68857d8",
   "metadata": {},
   "source": [
    "## 1 Imports and Basic Review\n",
    "In the code cell below, we import the necessary Python libraries for this notebook.  "
   ]
  },
  {
   "cell_type": "code",
   "execution_count": null,
   "id": "5b579a42",
   "metadata": {},
   "outputs": [],
   "source": [
    "# all imports get moved to the top\n",
    "\n",
    "import seaborn as sns\n",
    "import pandas as pd\n",
    "\n",
    "from pandas.plotting import scatter_matrix\n",
    "import matplotlib.pyplot as plt\n",
    "\n",
    "from sklearn.model_selection import train_test_split\n",
    "\n",
    "from sklearn.model_selection import StratifiedShuffleSplit\n"
   ]
  },
  {
   "cell_type": "code",
   "execution_count": null,
   "id": "476c520a",
   "metadata": {},
   "outputs": [],
   "source": [
    "# Load Titanic dataset\n",
    "titanic = sns.load_dataset('titanic')"
   ]
  },
  {
   "cell_type": "markdown",
   "id": "3f775f66",
   "metadata": {},
   "source": [
    "Display basic information about the dataset using the info() method."
   ]
  },
  {
   "cell_type": "code",
   "execution_count": null,
   "id": "b3a6b637",
   "metadata": {},
   "outputs": [],
   "source": [
    "titanic.info()"
   ]
  },
  {
   "cell_type": "markdown",
   "id": "9c001a63",
   "metadata": {},
   "source": [
    "Display the first 10 rows.  If not the last statement in a Python cell, you'll have to wrap in the print() function to display. \n",
    "\n"
   ]
  },
  {
   "cell_type": "code",
   "execution_count": null,
   "id": "db0c6a44",
   "metadata": {},
   "outputs": [],
   "source": [
    "print(titanic.head(10))\n"
   ]
  },
  {
   "cell_type": "markdown",
   "id": "4ee04b28",
   "metadata": {},
   "source": [
    "Check for missing values using the isnull() method and then the sum() method. "
   ]
  },
  {
   "cell_type": "code",
   "execution_count": null,
   "id": "ca8ed01d",
   "metadata": {},
   "outputs": [],
   "source": [
    "titanic.isnull().sum()"
   ]
  },
  {
   "cell_type": "markdown",
   "id": "e071f421",
   "metadata": {},
   "source": [
    "Display summary statistics using the describe() method"
   ]
  },
  {
   "cell_type": "code",
   "execution_count": null,
   "id": "e9f4de39",
   "metadata": {},
   "outputs": [],
   "source": [
    "print(titanic.describe())\n"
   ]
  },
  {
   "cell_type": "markdown",
   "id": "becac21b",
   "metadata": {},
   "source": [
    "Check for correlations using the corr() method and tell it to use only the numeric features. \n",
    "\n"
   ]
  },
  {
   "cell_type": "code",
   "execution_count": null,
   "id": "00e7ff5c",
   "metadata": {},
   "outputs": [],
   "source": [
    "print(titanic.corr(numeric_only=True))\n"
   ]
  },
  {
   "cell_type": "markdown",
   "id": "96489185",
   "metadata": {},
   "source": [
    "### Reflection 1\n",
    "1) How many data instances are there?   There are 891 data instances (rows)\n",
    "2) How many features are there?   There are 15 features (columns)\n",
    "3) What are the names?   survived, pclass, sex, age, sibsp, parch, fare, embarked, class, who, adult_male, deck, embark_town, alive, and alone\n",
    "4) Are there any missing values?   Yes, there are missing values:\n",
    "\n",
    "    age: 177 missing values; \n",
    "    deck: 688 missing values; \n",
    "    embarked: 2 missing values;  \n",
    "    embark_town: 2 missing values\n",
    "\n",
    "5) Are there any non-numeric features?   Yes, there are non-numeric features. Image 2 shows these data types:\n",
    "    object (5): sex, embarked, who, embark_town, alive;  \n",
    "    category (2): class, deck;  \n",
    "    bool (2): adult_male, alone\n",
    "\n",
    "6) Are the data instances sorted on any of the attributes?   No, the data instances don't appear to be sorted on any particular attribute based on the first 10 rows\n",
    "7) What are the units of age? Years\n",
    "8) What are the minimum, median and max age? \n",
    "    Minimum age: 0.42 years;  \n",
    "    Median age: 28.0 years;  \n",
    "    Maximum age: 80.0 years\n",
    "\n",
    "9)  What two different features have the highest correlation?   The highest correlation is between \"alone\" and \"sibsp\" at -0.584471, followed closely by \"alone\" and \"parch\" at -0.583398.\n",
    "\n",
    "10) Are there any categorical features that might be useful for prediction?   Several!\n",
    "\n",
    "adult_male (correlation with survived: -0.557080);  \n",
    "pclass (-0.338481);  \n",
    "class (categorical version of pclass);  \n",
    "embark_town (potential socioeconomic indicator)"
   ]
  },
  {
   "cell_type": "markdown",
   "id": "c3c25384",
   "metadata": {},
   "source": [
    "## Section 2. Data Exploration and Preparation\n",
    "\n",
    "### 2.1 Explore Data Patterns and Distributions\n",
    "Since Titanic contains both numeric and categorical variables, we'll use only numeric values here.\n",
    "\n",
    "Create a scatter plot of age vs fare, colored by gender:"
   ]
  },
  {
   "cell_type": "code",
   "execution_count": null,
   "id": "d9f0158e",
   "metadata": {},
   "outputs": [],
   "source": [
    "# First visualization - Scatter matrix\n",
    "attributes = ['age', 'fare', 'pclass']\n",
    "scatter_matrix(titanic[attributes], figsize=(10, 10))\n",
    "plt.tight_layout()\n",
    "plt.show()\n",
    "\n",
    "\n",
    "\n",
    "plt.figure(figsize=(10, 6))\n",
    "\n",
    "# Create scatter plots for each gender separately\n",
    "males = titanic[titanic['sex'] == 'male']\n",
    "females = titanic[titanic['sex'] == 'female']\n",
    "\n",
    "# Plot males in red, females in blue\n",
    "plt.scatter(males['age'], males['fare'], color='red', alpha=0.7, label='Male')\n",
    "plt.scatter(females['age'], females['fare'], color='blue', alpha=0.7, label='Female')\n",
    "\n",
    "plt.xlabel('Age')\n",
    "plt.ylabel('Fare')\n",
    "plt.title('Age vs Fare by Gender')\n",
    "plt.legend()\n",
    "plt.grid(alpha=0.3)\n",
    "plt.show()"
   ]
  },
  {
   "cell_type": "markdown",
   "id": "4ad19958",
   "metadata": {},
   "source": [
    "### Histogram of age"
   ]
  },
  {
   "cell_type": "code",
   "execution_count": null,
   "id": "196dbd36",
   "metadata": {},
   "outputs": [],
   "source": [
    "sns.histplot(titanic['age'], kde=True)\n",
    "plt.title('Age Distribution')\n",
    "plt.show()"
   ]
  },
  {
   "cell_type": "markdown",
   "id": "e455ac63",
   "metadata": {},
   "source": [
    "### Count plot for class and survival"
   ]
  },
  {
   "cell_type": "code",
   "execution_count": null,
   "id": "76044144",
   "metadata": {},
   "outputs": [],
   "source": [
    "sns.countplot(x='class', hue='survived', data=titanic)\n",
    "plt.title('Class Distribution by Survival')\n",
    "plt.show()"
   ]
  },
  {
   "cell_type": "markdown",
   "id": "8b8953c8",
   "metadata": {},
   "source": [
    "### 2.2 Reflections\n",
    "\n",
    "#### What patterns or anomalies do you notice?\n",
    "Age is bimodally distributed with peaks around 25-30 years and at very young ages (<5 years)\n",
    "Fare distribution is heavily right-skewed with most passengers paying <50 but some extreme outliers over 500\n",
    "Clear differences in survival rates across passenger classes\n",
    "Gender strongly correlates with survival \n",
    "There is a high concentration of passengers in third class\n",
    "\n",
    "\n",
    "#### Do any features stand out as potential predictors?\n",
    "Passenger class (pclass) shows dramatic survival differences - first class had highest survival rate while third class had lowest\n",
    "Gender appears significant with females (yellow dots) having higher survival rates across all classes\n",
    "Fare correlates with survival (likely as a proxy for class)\n",
    "The combination of gender and class appears particularly predictive.\n",
    "\n",
    "\n",
    "\n",
    "#### Are there any visible class imbalances?\n",
    "Survival status is imbalanced (~38% survived, 62% perished)\n",
    "Passenger classes are heavily imbalanced with most passengers in third class\n",
    "Age has 177 missing values (19.9% of dataset)\n",
    "Deck information is missing for 688 passengers (77.2%)\n",
    "Significant gender imbalance with more males than females"
   ]
  },
  {
   "cell_type": "markdown",
   "id": "4ad5608e",
   "metadata": {},
   "source": [
    "### 2.3 Handle Missing Values and Clean Data\n",
    "\n",
    "Age was missing values. We can impute missing values for age using the median:"
   ]
  },
  {
   "cell_type": "code",
   "execution_count": null,
   "id": "c9ba0691",
   "metadata": {},
   "outputs": [],
   "source": [
    "titanic['age'] = titanic['age'].fillna(titanic['age'].median())\n"
   ]
  },
  {
   "cell_type": "markdown",
   "id": "4d63896f",
   "metadata": {},
   "source": [
    "Embark_town was missing values. We can drop missing values for embark_town (or fill with mode):"
   ]
  },
  {
   "cell_type": "code",
   "execution_count": null,
   "id": "61001616",
   "metadata": {},
   "outputs": [],
   "source": [
    "titanic['embark_town'] = titanic['embark_town'].fillna(titanic['embark_town'].mode())\n"
   ]
  },
  {
   "cell_type": "markdown",
   "id": "53cab2c4",
   "metadata": {},
   "source": [
    "### 2.4 Feature Engineering\n",
    "\n",
    "Create a new feature: Family size"
   ]
  },
  {
   "cell_type": "code",
   "execution_count": null,
   "id": "89d8fc83",
   "metadata": {},
   "outputs": [],
   "source": [
    "titanic['family_size'] = titanic['sibsp'] + titanic['parch'] + 1\n",
    "\n"
   ]
  },
  {
   "cell_type": "markdown",
   "id": "31327d40",
   "metadata": {},
   "source": [
    "Convert categorical data to numeric:\n",
    "\n"
   ]
  },
  {
   "cell_type": "code",
   "execution_count": null,
   "id": "54c9f46a",
   "metadata": {},
   "outputs": [],
   "source": [
    "titanic['sex'] = titanic['sex'].map({'male': 0, 'female': 1})\n",
    "titanic['embarked'] = titanic['embarked'].map({'C': 0, 'Q': 1, 'S': 2})"
   ]
  },
  {
   "cell_type": "markdown",
   "id": "933e4cde",
   "metadata": {},
   "source": [
    "Create a binary feature for 'alone':\n",
    "\n"
   ]
  },
  {
   "cell_type": "code",
   "execution_count": null,
   "id": "c51641ad",
   "metadata": {},
   "outputs": [],
   "source": [
    "titanic['alone'] = titanic['alone'].astype(int)\n"
   ]
  },
  {
   "cell_type": "markdown",
   "id": "e4cd82f7",
   "metadata": {},
   "source": [
    "### 2.5 Further Reflections\n",
    "\n",
    "#### Why might family size be a useful feature for predicting survival?\n",
    "- Family dynamics affected survival decisions (staying together vs. individual escape)\n",
    "- Different-sized groups had different mobility during evacuation [harder to move as a larger group]\n",
    "- Large families might have been predominantly in certain classes/deck locations\n",
    "\n",
    "\n",
    "#### Why convert categorical data to numeric?\n",
    "- Machine learning algorithms require numeric input\n",
    "- Mathematical operations can't be performed on text\n",
    "- Numeric encoding enables pattern detection by algorithms\n",
    "- It standardizes features for consistent processing in models"
   ]
  },
  {
   "cell_type": "markdown",
   "id": "4989da52",
   "metadata": {},
   "source": [
    "## Section 3. Feature Selection and Justification\n",
    "\n",
    "### 3.1 Choose features and target\n",
    "\n",
    "Select two or more input features (numerical for regression, numerical and/or categorical for classification)\n",
    "Select a target variable (as applicable)\n",
    "Classification: Categorical target variable (e.g., gender, species).\n",
    "Justify your selection with reasoning.\n",
    " \n",
    "\n",
    "For classification, we’ll use survived as the target variable.\n",
    "\n",
    "Input features: age, fare, pclass, sex, family_size\n",
    "Target: survived"
   ]
  },
  {
   "cell_type": "markdown",
   "id": "f7b6999d",
   "metadata": {},
   "source": [
    "### 3.2 Define X and y\n",
    "\n",
    "Assign input features to X\n",
    "Assign target variable to y (as applicable)"
   ]
  },
  {
   "cell_type": "code",
   "execution_count": null,
   "id": "bd3195e0",
   "metadata": {},
   "outputs": [],
   "source": [
    "X = titanic[['age', 'fare', 'pclass', 'sex', 'family_size']]\n",
    "y = titanic['survived'] "
   ]
  },
  {
   "cell_type": "markdown",
   "id": "00e7e774",
   "metadata": {},
   "source": [
    "### 3.2 Reflection\n",
    "\n",
    "#### Why are these features selected?\n",
    "- Sex: Women and children first policies were followed\n",
    "- Pclass: Represents socioeconomic status and physical location on ship (lower decks had less access to lifeboats)\n",
    "- Age: Children were prioritized for rescue\n",
    "- Fare: Proxy for wealth/status that might influence treatment\n",
    "- Family_size: Feature could capture group dynamics during evacuation\n",
    "\n",
    "#### Are there any features that are likely to be highly predictive of survival?\n",
    "- Sex: Strong correlation with survival (-0.557), with females having higher survival rates\n",
    "- Pclass: Second strongest predictor (-0.338), with first-class passengers surviving at  higher rates\n",
    "- Family_size: Related to \"alone\" status (-0.203 correlation), suggesting traveling with family affected survival chances"
   ]
  },
  {
   "cell_type": "markdown",
   "id": "1672ec1a",
   "metadata": {},
   "source": [
    "## Section 4. Splitting\n",
    "Split the data into training and test sets using train_test_split first and StratifiedShuffleSplit second. Compare.\n",
    "\n"
   ]
  },
  {
   "cell_type": "markdown",
   "id": "95f6f8f3",
   "metadata": {},
   "source": [
    "### 4.1 Basic Train/Test split \n"
   ]
  },
  {
   "cell_type": "code",
   "execution_count": null,
   "id": "02b0788a",
   "metadata": {},
   "outputs": [],
   "source": [
    "X_train, X_test, y_train, y_test = train_test_split(X, y, test_size=0.2, random_state=123)\n",
    "\n",
    "print('Train size:', len(X_train))\n",
    "print('Test size:', len(X_test))"
   ]
  },
  {
   "cell_type": "code",
   "execution_count": null,
   "id": "c09f123f",
   "metadata": {},
   "outputs": [],
   "source": [
    "print(\"Original Class Distribution:\\n\", X['pclass'].value_counts(normalize=True),\"\\n\")\n",
    "print(\"Train Set Class Distribution:\\n\", X_train['pclass'].value_counts(normalize=True),\"\\n\")\n",
    "print(\"Test Set Class Distribution:\\n\", X_test['pclass'].value_counts(normalize=True),\"\\n\")"
   ]
  },
  {
   "cell_type": "markdown",
   "id": "c3b387c0",
   "metadata": {},
   "source": [
    "### 4.2 Stratified Train/Test split\n"
   ]
  },
  {
   "cell_type": "code",
   "execution_count": null,
   "id": "b3e2b3ce",
   "metadata": {},
   "outputs": [],
   "source": [
    "# Create stratified split\n",
    "splitter = StratifiedShuffleSplit(n_splits=1, test_size=0.2, random_state=456)\n",
    "\n",
    "# Initialize variables\n",
    "X_train_strat = None\n",
    "X_test_strat = None\n",
    "y_train_strat = None\n",
    "y_test_strat = None\n",
    "\n",
    "# Split the data, preserving target distribution\n",
    "for train_indices, test_indices in splitter.split(X, y):\n",
    "    X_train_strat = X.iloc[train_indices]\n",
    "    X_test_strat = X.iloc[test_indices]\n",
    "    y_train_strat = y.iloc[train_indices]\n",
    "    y_test_strat = y.iloc[test_indices]\n",
    "\n",
    "print('Train size:', len(X_train_strat))\n",
    "print('Test size:', len(X_test_strat))"
   ]
  },
  {
   "cell_type": "code",
   "execution_count": null,
   "id": "dc0d8f1a",
   "metadata": {},
   "outputs": [],
   "source": [
    "print(\"Original Class Distribution:\\n\", X['pclass'].value_counts(normalize=True),\"\\n\")\n",
    "print(\"Train Set Class Distribution:\\n\", X_train_strat['pclass'].value_counts(normalize=True),\"\\n\") \n",
    "print(\"Test Set Class Distribution:\\n\", X_test_strat['pclass'].value_counts(normalize=True),\"\\n\")"
   ]
  },
  {
   "cell_type": "markdown",
   "id": "cc713a0d",
   "metadata": {},
   "source": [
    "### 4.4 Reflection\n",
    "\n",
    "Why might stratification improve model performance?\n",
    "\n",
    "How close are the training and test distributions to the original dataset?\n",
    "\n",
    "Which split method produced better class balance?"
   ]
  }
 ],
 "metadata": {
  "kernelspec": {
   "display_name": ".venv",
   "language": "python",
   "name": "python3"
  },
  "language_info": {
   "codemirror_mode": {
    "name": "ipython",
    "version": 3
   },
   "file_extension": ".py",
   "mimetype": "text/x-python",
   "name": "python",
   "nbconvert_exporter": "python",
   "pygments_lexer": "ipython3",
   "version": "3.13.1"
  }
 },
 "nbformat": 4,
 "nbformat_minor": 5
}
